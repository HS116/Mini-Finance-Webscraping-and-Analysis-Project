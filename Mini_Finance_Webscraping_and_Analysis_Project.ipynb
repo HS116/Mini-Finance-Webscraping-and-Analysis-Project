{
  "nbformat": 4,
  "nbformat_minor": 0,
  "metadata": {
    "colab": {
      "name": "Mini Finance Webscraping and Analysis Project.ipynb",
      "provenance": [],
      "authorship_tag": "ABX9TyOcrYvFjPLiFNBxjWNPzHiB",
      "include_colab_link": true
    },
    "kernelspec": {
      "name": "python3",
      "display_name": "Python 3"
    },
    "language_info": {
      "name": "python"
    }
  },
  "cells": [
    {
      "cell_type": "markdown",
      "metadata": {
        "id": "view-in-github",
        "colab_type": "text"
      },
      "source": [
        "<a href=\"https://colab.research.google.com/github/HS116/Mini-Finance-Webscraping-and-Analysis-Project/blob/main/Mini_Finance_Webscraping_and_Analysis_Project.ipynb\" target=\"_parent\"><img src=\"https://colab.research.google.com/assets/colab-badge.svg\" alt=\"Open In Colab\"/></a>"
      ]
    },
    {
      "cell_type": "markdown",
      "source": [
        "#Basic Part"
      ],
      "metadata": {
        "id": "w4osckS8h6c-"
      }
    },
    {
      "cell_type": "markdown",
      "source": [
        "##Imports"
      ],
      "metadata": {
        "id": "VR-7mqW55Oci"
      }
    },
    {
      "cell_type": "code",
      "execution_count": null,
      "metadata": {
        "colab": {
          "base_uri": "https://localhost:8080/"
        },
        "id": "GV4r_gTP5BtX",
        "outputId": "08b38a38-181d-4af7-fc0b-f47ab556bb92"
      },
      "outputs": [
        {
          "output_type": "stream",
          "name": "stdout",
          "text": [
            "0.10.0\n"
          ]
        }
      ],
      "source": [
        "import pandas_datareader\n",
        "import pandas as pd\n",
        "import numpy as np\n",
        "import datetime as dt\n",
        "\n",
        "from pandas_datareader import data as pdr\n",
        "import plotly.offline as plo\n",
        "import plotly.graph_objects as go\n",
        "from plotly.subplots import make_subplots\n",
        "#earlier had to update pandas Datereader to 0.10, and make sure to restart runtime after upgrading pandas_datareader\n",
        "#!pip install --upgrade pandas_datareader\n",
        "#same issue for plotly\n",
        "#!pip install plotly --upgrade\n",
        "print(pandas_datareader.__version__)\n",
        "#Plotly not working atm, hence I've commented out below lines\n",
        "#plo.init_notebook_mode(connected = True)\n",
        "#pd.options.plotting.backend = 'plotly'"
      ]
    },
    {
      "cell_type": "markdown",
      "source": [
        "##Focus on recent data"
      ],
      "metadata": {
        "id": "H8tKzG-F5Mba"
      }
    },
    {
      "cell_type": "code",
      "source": [
        "start = dt.datetime(2021,1,1)\n",
        "end = dt.datetime.now()"
      ],
      "metadata": {
        "id": "DHqkw6K250u6"
      },
      "execution_count": null,
      "outputs": []
    },
    {
      "cell_type": "markdown",
      "source": [
        "## (DAX) Stocks"
      ],
      "metadata": {
        "id": "6bfbv--J65rW"
      }
    },
    {
      "cell_type": "code",
      "source": [
        "stockCodes = {\"Allianz\" : \"ALV\", \"Daimler\" : \"DTG\", \"Siemens\" : \"SIE\", \"BMW\" : \"BMW\"}\n",
        "\n",
        "#german stocks end in DE\n",
        "stocks = [ stockCode + \".DE\" for stockCode in stockCodes.values()]\n",
        "stocks"
      ],
      "metadata": {
        "colab": {
          "base_uri": "https://localhost:8080/"
        },
        "id": "wpb3FvkA6-KU",
        "outputId": "1f811526-f4e4-4551-8539-622b038adc36"
      },
      "execution_count": null,
      "outputs": [
        {
          "output_type": "execute_result",
          "data": {
            "text/plain": [
              "['ALV.DE', 'DTG.DE', 'SIE.DE', 'BMW.DE']"
            ]
          },
          "metadata": {},
          "execution_count": 4
        }
      ]
    },
    {
      "cell_type": "markdown",
      "source": [
        "##Using Pandas API to retrieve Yahoo Finance data"
      ],
      "metadata": {
        "id": "1YoPKXFq7_jZ"
      }
    },
    {
      "cell_type": "code",
      "source": [
        "df = pdr.get_data_yahoo(stocks, start, end)\n",
        "df.head()"
      ],
      "metadata": {
        "colab": {
          "base_uri": "https://localhost:8080/",
          "height": 362
        },
        "id": "lR2u1l3K8KKs",
        "outputId": "caf25bfb-3117-4d4b-fecc-b4cb2b355049"
      },
      "execution_count": null,
      "outputs": [
        {
          "output_type": "execute_result",
          "data": {
            "text/plain": [
              "Attributes   Adj Close                                     Close         \\\n",
              "Symbols         ALV.DE DTG.DE      SIE.DE     BMW.DE      ALV.DE DTG.DE   \n",
              "Date                                                                      \n",
              "2021-01-04  190.011627    NaN  111.424843  68.613251  198.619995    NaN   \n",
              "2021-01-05  188.060059    NaN  111.197472  67.658432  196.580002    NaN   \n",
              "2021-01-06  197.837112    NaN  115.460457  67.782555  206.800003    NaN   \n",
              "2021-01-07  196.210800    NaN  117.752998  67.811195  205.100006    NaN   \n",
              "2021-01-08  196.832611    NaN  117.468796  67.305145  205.750000    NaN   \n",
              "\n",
              "Attributes                               High         ...         Low  \\\n",
              "Symbols         SIE.DE     BMW.DE      ALV.DE DTG.DE  ...      SIE.DE   \n",
              "Date                                                  ...               \n",
              "2021-01-04  117.620003  71.860001  202.699997    NaN  ...  116.680000   \n",
              "2021-01-05  117.379997  70.860001  199.839996    NaN  ...  116.300003   \n",
              "2021-01-06  121.879997  70.989998  207.850006    NaN  ...  117.300003   \n",
              "2021-01-07  124.300003  71.019997  208.350006    NaN  ...  121.900002   \n",
              "2021-01-08  124.000000  70.489998  207.000000    NaN  ...  123.680000   \n",
              "\n",
              "Attributes                   Open                                   Volume  \\\n",
              "Symbols        BMW.DE      ALV.DE DTG.DE      SIE.DE     BMW.DE     ALV.DE   \n",
              "Date                                                                         \n",
              "2021-01-04  71.230003  202.550003    NaN  118.879997  73.029999  1176585.0   \n",
              "2021-01-05  70.349998  197.559998    NaN  116.519997  71.000000  1053943.0   \n",
              "2021-01-06  70.489998  198.979996    NaN  117.680000  71.419998  1984656.0   \n",
              "2021-01-07  70.010002  207.899994    NaN  122.160004  71.129997  1052876.0   \n",
              "2021-01-08  69.639999  206.550003    NaN  124.599998  71.959999   938809.0   \n",
              "\n",
              "Attributes                               \n",
              "Symbols    DTG.DE     SIE.DE     BMW.DE  \n",
              "Date                                     \n",
              "2021-01-04    NaN  1257386.0  1250834.0  \n",
              "2021-01-05    NaN  1355886.0  1542690.0  \n",
              "2021-01-06    NaN  2048105.0  1679300.0  \n",
              "2021-01-07    NaN  2215688.0  2156329.0  \n",
              "2021-01-08    NaN  1823416.0  2128156.0  \n",
              "\n",
              "[5 rows x 24 columns]"
            ],
            "text/html": [
              "\n",
              "  <div id=\"df-a97edd5e-849a-47ac-b2a6-c24226ee91f4\">\n",
              "    <div class=\"colab-df-container\">\n",
              "      <div>\n",
              "<style scoped>\n",
              "    .dataframe tbody tr th:only-of-type {\n",
              "        vertical-align: middle;\n",
              "    }\n",
              "\n",
              "    .dataframe tbody tr th {\n",
              "        vertical-align: top;\n",
              "    }\n",
              "\n",
              "    .dataframe thead tr th {\n",
              "        text-align: left;\n",
              "    }\n",
              "\n",
              "    .dataframe thead tr:last-of-type th {\n",
              "        text-align: right;\n",
              "    }\n",
              "</style>\n",
              "<table border=\"1\" class=\"dataframe\">\n",
              "  <thead>\n",
              "    <tr>\n",
              "      <th>Attributes</th>\n",
              "      <th colspan=\"4\" halign=\"left\">Adj Close</th>\n",
              "      <th colspan=\"4\" halign=\"left\">Close</th>\n",
              "      <th colspan=\"2\" halign=\"left\">High</th>\n",
              "      <th>...</th>\n",
              "      <th colspan=\"2\" halign=\"left\">Low</th>\n",
              "      <th colspan=\"4\" halign=\"left\">Open</th>\n",
              "      <th colspan=\"4\" halign=\"left\">Volume</th>\n",
              "    </tr>\n",
              "    <tr>\n",
              "      <th>Symbols</th>\n",
              "      <th>ALV.DE</th>\n",
              "      <th>DTG.DE</th>\n",
              "      <th>SIE.DE</th>\n",
              "      <th>BMW.DE</th>\n",
              "      <th>ALV.DE</th>\n",
              "      <th>DTG.DE</th>\n",
              "      <th>SIE.DE</th>\n",
              "      <th>BMW.DE</th>\n",
              "      <th>ALV.DE</th>\n",
              "      <th>DTG.DE</th>\n",
              "      <th>...</th>\n",
              "      <th>SIE.DE</th>\n",
              "      <th>BMW.DE</th>\n",
              "      <th>ALV.DE</th>\n",
              "      <th>DTG.DE</th>\n",
              "      <th>SIE.DE</th>\n",
              "      <th>BMW.DE</th>\n",
              "      <th>ALV.DE</th>\n",
              "      <th>DTG.DE</th>\n",
              "      <th>SIE.DE</th>\n",
              "      <th>BMW.DE</th>\n",
              "    </tr>\n",
              "    <tr>\n",
              "      <th>Date</th>\n",
              "      <th></th>\n",
              "      <th></th>\n",
              "      <th></th>\n",
              "      <th></th>\n",
              "      <th></th>\n",
              "      <th></th>\n",
              "      <th></th>\n",
              "      <th></th>\n",
              "      <th></th>\n",
              "      <th></th>\n",
              "      <th></th>\n",
              "      <th></th>\n",
              "      <th></th>\n",
              "      <th></th>\n",
              "      <th></th>\n",
              "      <th></th>\n",
              "      <th></th>\n",
              "      <th></th>\n",
              "      <th></th>\n",
              "      <th></th>\n",
              "      <th></th>\n",
              "    </tr>\n",
              "  </thead>\n",
              "  <tbody>\n",
              "    <tr>\n",
              "      <th>2021-01-04</th>\n",
              "      <td>190.011627</td>\n",
              "      <td>NaN</td>\n",
              "      <td>111.424843</td>\n",
              "      <td>68.613251</td>\n",
              "      <td>198.619995</td>\n",
              "      <td>NaN</td>\n",
              "      <td>117.620003</td>\n",
              "      <td>71.860001</td>\n",
              "      <td>202.699997</td>\n",
              "      <td>NaN</td>\n",
              "      <td>...</td>\n",
              "      <td>116.680000</td>\n",
              "      <td>71.230003</td>\n",
              "      <td>202.550003</td>\n",
              "      <td>NaN</td>\n",
              "      <td>118.879997</td>\n",
              "      <td>73.029999</td>\n",
              "      <td>1176585.0</td>\n",
              "      <td>NaN</td>\n",
              "      <td>1257386.0</td>\n",
              "      <td>1250834.0</td>\n",
              "    </tr>\n",
              "    <tr>\n",
              "      <th>2021-01-05</th>\n",
              "      <td>188.060059</td>\n",
              "      <td>NaN</td>\n",
              "      <td>111.197472</td>\n",
              "      <td>67.658432</td>\n",
              "      <td>196.580002</td>\n",
              "      <td>NaN</td>\n",
              "      <td>117.379997</td>\n",
              "      <td>70.860001</td>\n",
              "      <td>199.839996</td>\n",
              "      <td>NaN</td>\n",
              "      <td>...</td>\n",
              "      <td>116.300003</td>\n",
              "      <td>70.349998</td>\n",
              "      <td>197.559998</td>\n",
              "      <td>NaN</td>\n",
              "      <td>116.519997</td>\n",
              "      <td>71.000000</td>\n",
              "      <td>1053943.0</td>\n",
              "      <td>NaN</td>\n",
              "      <td>1355886.0</td>\n",
              "      <td>1542690.0</td>\n",
              "    </tr>\n",
              "    <tr>\n",
              "      <th>2021-01-06</th>\n",
              "      <td>197.837112</td>\n",
              "      <td>NaN</td>\n",
              "      <td>115.460457</td>\n",
              "      <td>67.782555</td>\n",
              "      <td>206.800003</td>\n",
              "      <td>NaN</td>\n",
              "      <td>121.879997</td>\n",
              "      <td>70.989998</td>\n",
              "      <td>207.850006</td>\n",
              "      <td>NaN</td>\n",
              "      <td>...</td>\n",
              "      <td>117.300003</td>\n",
              "      <td>70.489998</td>\n",
              "      <td>198.979996</td>\n",
              "      <td>NaN</td>\n",
              "      <td>117.680000</td>\n",
              "      <td>71.419998</td>\n",
              "      <td>1984656.0</td>\n",
              "      <td>NaN</td>\n",
              "      <td>2048105.0</td>\n",
              "      <td>1679300.0</td>\n",
              "    </tr>\n",
              "    <tr>\n",
              "      <th>2021-01-07</th>\n",
              "      <td>196.210800</td>\n",
              "      <td>NaN</td>\n",
              "      <td>117.752998</td>\n",
              "      <td>67.811195</td>\n",
              "      <td>205.100006</td>\n",
              "      <td>NaN</td>\n",
              "      <td>124.300003</td>\n",
              "      <td>71.019997</td>\n",
              "      <td>208.350006</td>\n",
              "      <td>NaN</td>\n",
              "      <td>...</td>\n",
              "      <td>121.900002</td>\n",
              "      <td>70.010002</td>\n",
              "      <td>207.899994</td>\n",
              "      <td>NaN</td>\n",
              "      <td>122.160004</td>\n",
              "      <td>71.129997</td>\n",
              "      <td>1052876.0</td>\n",
              "      <td>NaN</td>\n",
              "      <td>2215688.0</td>\n",
              "      <td>2156329.0</td>\n",
              "    </tr>\n",
              "    <tr>\n",
              "      <th>2021-01-08</th>\n",
              "      <td>196.832611</td>\n",
              "      <td>NaN</td>\n",
              "      <td>117.468796</td>\n",
              "      <td>67.305145</td>\n",
              "      <td>205.750000</td>\n",
              "      <td>NaN</td>\n",
              "      <td>124.000000</td>\n",
              "      <td>70.489998</td>\n",
              "      <td>207.000000</td>\n",
              "      <td>NaN</td>\n",
              "      <td>...</td>\n",
              "      <td>123.680000</td>\n",
              "      <td>69.639999</td>\n",
              "      <td>206.550003</td>\n",
              "      <td>NaN</td>\n",
              "      <td>124.599998</td>\n",
              "      <td>71.959999</td>\n",
              "      <td>938809.0</td>\n",
              "      <td>NaN</td>\n",
              "      <td>1823416.0</td>\n",
              "      <td>2128156.0</td>\n",
              "    </tr>\n",
              "  </tbody>\n",
              "</table>\n",
              "<p>5 rows × 24 columns</p>\n",
              "</div>\n",
              "      <button class=\"colab-df-convert\" onclick=\"convertToInteractive('df-a97edd5e-849a-47ac-b2a6-c24226ee91f4')\"\n",
              "              title=\"Convert this dataframe to an interactive table.\"\n",
              "              style=\"display:none;\">\n",
              "        \n",
              "  <svg xmlns=\"http://www.w3.org/2000/svg\" height=\"24px\"viewBox=\"0 0 24 24\"\n",
              "       width=\"24px\">\n",
              "    <path d=\"M0 0h24v24H0V0z\" fill=\"none\"/>\n",
              "    <path d=\"M18.56 5.44l.94 2.06.94-2.06 2.06-.94-2.06-.94-.94-2.06-.94 2.06-2.06.94zm-11 1L8.5 8.5l.94-2.06 2.06-.94-2.06-.94L8.5 2.5l-.94 2.06-2.06.94zm10 10l.94 2.06.94-2.06 2.06-.94-2.06-.94-.94-2.06-.94 2.06-2.06.94z\"/><path d=\"M17.41 7.96l-1.37-1.37c-.4-.4-.92-.59-1.43-.59-.52 0-1.04.2-1.43.59L10.3 9.45l-7.72 7.72c-.78.78-.78 2.05 0 2.83L4 21.41c.39.39.9.59 1.41.59.51 0 1.02-.2 1.41-.59l7.78-7.78 2.81-2.81c.8-.78.8-2.07 0-2.86zM5.41 20L4 18.59l7.72-7.72 1.47 1.35L5.41 20z\"/>\n",
              "  </svg>\n",
              "      </button>\n",
              "      \n",
              "  <style>\n",
              "    .colab-df-container {\n",
              "      display:flex;\n",
              "      flex-wrap:wrap;\n",
              "      gap: 12px;\n",
              "    }\n",
              "\n",
              "    .colab-df-convert {\n",
              "      background-color: #E8F0FE;\n",
              "      border: none;\n",
              "      border-radius: 50%;\n",
              "      cursor: pointer;\n",
              "      display: none;\n",
              "      fill: #1967D2;\n",
              "      height: 32px;\n",
              "      padding: 0 0 0 0;\n",
              "      width: 32px;\n",
              "    }\n",
              "\n",
              "    .colab-df-convert:hover {\n",
              "      background-color: #E2EBFA;\n",
              "      box-shadow: 0px 1px 2px rgba(60, 64, 67, 0.3), 0px 1px 3px 1px rgba(60, 64, 67, 0.15);\n",
              "      fill: #174EA6;\n",
              "    }\n",
              "\n",
              "    [theme=dark] .colab-df-convert {\n",
              "      background-color: #3B4455;\n",
              "      fill: #D2E3FC;\n",
              "    }\n",
              "\n",
              "    [theme=dark] .colab-df-convert:hover {\n",
              "      background-color: #434B5C;\n",
              "      box-shadow: 0px 1px 3px 1px rgba(0, 0, 0, 0.15);\n",
              "      filter: drop-shadow(0px 1px 2px rgba(0, 0, 0, 0.3));\n",
              "      fill: #FFFFFF;\n",
              "    }\n",
              "  </style>\n",
              "\n",
              "      <script>\n",
              "        const buttonEl =\n",
              "          document.querySelector('#df-a97edd5e-849a-47ac-b2a6-c24226ee91f4 button.colab-df-convert');\n",
              "        buttonEl.style.display =\n",
              "          google.colab.kernel.accessAllowed ? 'block' : 'none';\n",
              "\n",
              "        async function convertToInteractive(key) {\n",
              "          const element = document.querySelector('#df-a97edd5e-849a-47ac-b2a6-c24226ee91f4');\n",
              "          const dataTable =\n",
              "            await google.colab.kernel.invokeFunction('convertToInteractive',\n",
              "                                                     [key], {});\n",
              "          if (!dataTable) return;\n",
              "\n",
              "          const docLinkHtml = 'Like what you see? Visit the ' +\n",
              "            '<a target=\"_blank\" href=https://colab.research.google.com/notebooks/data_table.ipynb>data table notebook</a>'\n",
              "            + ' to learn more about interactive tables.';\n",
              "          element.innerHTML = '';\n",
              "          dataTable['output_type'] = 'display_data';\n",
              "          await google.colab.output.renderOutput(dataTable, element);\n",
              "          const docLink = document.createElement('div');\n",
              "          docLink.innerHTML = docLinkHtml;\n",
              "          element.appendChild(docLink);\n",
              "        }\n",
              "      </script>\n",
              "    </div>\n",
              "  </div>\n",
              "  "
            ]
          },
          "metadata": {},
          "execution_count": 15
        }
      ]
    },
    {
      "cell_type": "markdown",
      "source": [
        "##Simplifying data by column and date"
      ],
      "metadata": {
        "id": "tp9Of0iE9a3I"
      }
    },
    {
      "cell_type": "code",
      "source": [
        "print(df.Close.loc[\"2021-12-30\":\"2022-01-10\"])"
      ],
      "metadata": {
        "colab": {
          "base_uri": "https://localhost:8080/"
        },
        "id": "-HPHqowz9Z_2",
        "outputId": "1f8246b2-8c99-464c-9a22-77c2d636fdcd"
      },
      "execution_count": null,
      "outputs": [
        {
          "output_type": "stream",
          "name": "stdout",
          "text": [
            "Symbols         ALV.DE     DTG.DE      SIE.DE     BMW.DE\n",
            "Date                                                    \n",
            "2021-12-30  207.649994  32.290001  152.679993  88.489998\n",
            "2022-01-03  209.850006  32.000000  153.720001  91.330002\n",
            "2022-01-04  215.850006  32.000000  155.419998  94.190002\n",
            "2022-01-05  216.750000  32.529999  157.960007  96.239998\n",
            "2022-01-06  220.000000  32.000000  154.160004  96.220001\n",
            "2022-01-07  222.550003  32.209999  152.160004  95.599998\n",
            "2022-01-10  223.399994  33.490002  147.880005  97.199997\n"
          ]
        }
      ]
    },
    {
      "cell_type": "markdown",
      "source": [
        "##Basic stats"
      ],
      "metadata": {
        "id": "yRbdX2Jv-J07"
      }
    },
    {
      "cell_type": "code",
      "source": [
        "df.Close.describe()"
      ],
      "metadata": {
        "colab": {
          "base_uri": "https://localhost:8080/",
          "height": 300
        },
        "id": "MZ-sb9je-RV8",
        "outputId": "b0441c7d-079a-46ad-e4d1-52e502c53396"
      },
      "execution_count": null,
      "outputs": [
        {
          "output_type": "execute_result",
          "data": {
            "text/plain": [
              "Symbols      ALV.DE     DTG.DE      SIE.DE      BMW.DE\n",
              "count    323.000000  82.000000  323.000000  323.000000\n",
              "mean     207.550093  29.500610  137.925201   84.190836\n",
              "std       10.380787   3.858448    8.283143    7.657123\n",
              "min      183.220001  22.035000  113.220001   68.339996\n",
              "25%      198.910004  25.192500  133.230003   79.055000\n",
              "50%      207.449997  31.450000  137.839996   85.070000\n",
              "75%      216.075005  32.386251  142.600006   89.760002\n",
              "max      231.949997  35.439999  157.960007   99.320000"
            ],
            "text/html": [
              "\n",
              "  <div id=\"df-fc93bdfc-610a-483b-a2f2-e9d8b3bd213c\">\n",
              "    <div class=\"colab-df-container\">\n",
              "      <div>\n",
              "<style scoped>\n",
              "    .dataframe tbody tr th:only-of-type {\n",
              "        vertical-align: middle;\n",
              "    }\n",
              "\n",
              "    .dataframe tbody tr th {\n",
              "        vertical-align: top;\n",
              "    }\n",
              "\n",
              "    .dataframe thead th {\n",
              "        text-align: right;\n",
              "    }\n",
              "</style>\n",
              "<table border=\"1\" class=\"dataframe\">\n",
              "  <thead>\n",
              "    <tr style=\"text-align: right;\">\n",
              "      <th>Symbols</th>\n",
              "      <th>ALV.DE</th>\n",
              "      <th>DTG.DE</th>\n",
              "      <th>SIE.DE</th>\n",
              "      <th>BMW.DE</th>\n",
              "    </tr>\n",
              "  </thead>\n",
              "  <tbody>\n",
              "    <tr>\n",
              "      <th>count</th>\n",
              "      <td>323.000000</td>\n",
              "      <td>82.000000</td>\n",
              "      <td>323.000000</td>\n",
              "      <td>323.000000</td>\n",
              "    </tr>\n",
              "    <tr>\n",
              "      <th>mean</th>\n",
              "      <td>207.550093</td>\n",
              "      <td>29.500610</td>\n",
              "      <td>137.925201</td>\n",
              "      <td>84.190836</td>\n",
              "    </tr>\n",
              "    <tr>\n",
              "      <th>std</th>\n",
              "      <td>10.380787</td>\n",
              "      <td>3.858448</td>\n",
              "      <td>8.283143</td>\n",
              "      <td>7.657123</td>\n",
              "    </tr>\n",
              "    <tr>\n",
              "      <th>min</th>\n",
              "      <td>183.220001</td>\n",
              "      <td>22.035000</td>\n",
              "      <td>113.220001</td>\n",
              "      <td>68.339996</td>\n",
              "    </tr>\n",
              "    <tr>\n",
              "      <th>25%</th>\n",
              "      <td>198.910004</td>\n",
              "      <td>25.192500</td>\n",
              "      <td>133.230003</td>\n",
              "      <td>79.055000</td>\n",
              "    </tr>\n",
              "    <tr>\n",
              "      <th>50%</th>\n",
              "      <td>207.449997</td>\n",
              "      <td>31.450000</td>\n",
              "      <td>137.839996</td>\n",
              "      <td>85.070000</td>\n",
              "    </tr>\n",
              "    <tr>\n",
              "      <th>75%</th>\n",
              "      <td>216.075005</td>\n",
              "      <td>32.386251</td>\n",
              "      <td>142.600006</td>\n",
              "      <td>89.760002</td>\n",
              "    </tr>\n",
              "    <tr>\n",
              "      <th>max</th>\n",
              "      <td>231.949997</td>\n",
              "      <td>35.439999</td>\n",
              "      <td>157.960007</td>\n",
              "      <td>99.320000</td>\n",
              "    </tr>\n",
              "  </tbody>\n",
              "</table>\n",
              "</div>\n",
              "      <button class=\"colab-df-convert\" onclick=\"convertToInteractive('df-fc93bdfc-610a-483b-a2f2-e9d8b3bd213c')\"\n",
              "              title=\"Convert this dataframe to an interactive table.\"\n",
              "              style=\"display:none;\">\n",
              "        \n",
              "  <svg xmlns=\"http://www.w3.org/2000/svg\" height=\"24px\"viewBox=\"0 0 24 24\"\n",
              "       width=\"24px\">\n",
              "    <path d=\"M0 0h24v24H0V0z\" fill=\"none\"/>\n",
              "    <path d=\"M18.56 5.44l.94 2.06.94-2.06 2.06-.94-2.06-.94-.94-2.06-.94 2.06-2.06.94zm-11 1L8.5 8.5l.94-2.06 2.06-.94-2.06-.94L8.5 2.5l-.94 2.06-2.06.94zm10 10l.94 2.06.94-2.06 2.06-.94-2.06-.94-.94-2.06-.94 2.06-2.06.94z\"/><path d=\"M17.41 7.96l-1.37-1.37c-.4-.4-.92-.59-1.43-.59-.52 0-1.04.2-1.43.59L10.3 9.45l-7.72 7.72c-.78.78-.78 2.05 0 2.83L4 21.41c.39.39.9.59 1.41.59.51 0 1.02-.2 1.41-.59l7.78-7.78 2.81-2.81c.8-.78.8-2.07 0-2.86zM5.41 20L4 18.59l7.72-7.72 1.47 1.35L5.41 20z\"/>\n",
              "  </svg>\n",
              "      </button>\n",
              "      \n",
              "  <style>\n",
              "    .colab-df-container {\n",
              "      display:flex;\n",
              "      flex-wrap:wrap;\n",
              "      gap: 12px;\n",
              "    }\n",
              "\n",
              "    .colab-df-convert {\n",
              "      background-color: #E8F0FE;\n",
              "      border: none;\n",
              "      border-radius: 50%;\n",
              "      cursor: pointer;\n",
              "      display: none;\n",
              "      fill: #1967D2;\n",
              "      height: 32px;\n",
              "      padding: 0 0 0 0;\n",
              "      width: 32px;\n",
              "    }\n",
              "\n",
              "    .colab-df-convert:hover {\n",
              "      background-color: #E2EBFA;\n",
              "      box-shadow: 0px 1px 2px rgba(60, 64, 67, 0.3), 0px 1px 3px 1px rgba(60, 64, 67, 0.15);\n",
              "      fill: #174EA6;\n",
              "    }\n",
              "\n",
              "    [theme=dark] .colab-df-convert {\n",
              "      background-color: #3B4455;\n",
              "      fill: #D2E3FC;\n",
              "    }\n",
              "\n",
              "    [theme=dark] .colab-df-convert:hover {\n",
              "      background-color: #434B5C;\n",
              "      box-shadow: 0px 1px 3px 1px rgba(0, 0, 0, 0.15);\n",
              "      filter: drop-shadow(0px 1px 2px rgba(0, 0, 0, 0.3));\n",
              "      fill: #FFFFFF;\n",
              "    }\n",
              "  </style>\n",
              "\n",
              "      <script>\n",
              "        const buttonEl =\n",
              "          document.querySelector('#df-fc93bdfc-610a-483b-a2f2-e9d8b3bd213c button.colab-df-convert');\n",
              "        buttonEl.style.display =\n",
              "          google.colab.kernel.accessAllowed ? 'block' : 'none';\n",
              "\n",
              "        async function convertToInteractive(key) {\n",
              "          const element = document.querySelector('#df-fc93bdfc-610a-483b-a2f2-e9d8b3bd213c');\n",
              "          const dataTable =\n",
              "            await google.colab.kernel.invokeFunction('convertToInteractive',\n",
              "                                                     [key], {});\n",
              "          if (!dataTable) return;\n",
              "\n",
              "          const docLinkHtml = 'Like what you see? Visit the ' +\n",
              "            '<a target=\"_blank\" href=https://colab.research.google.com/notebooks/data_table.ipynb>data table notebook</a>'\n",
              "            + ' to learn more about interactive tables.';\n",
              "          element.innerHTML = '';\n",
              "          dataTable['output_type'] = 'display_data';\n",
              "          await google.colab.output.renderOutput(dataTable, element);\n",
              "          const docLink = document.createElement('div');\n",
              "          docLink.innerHTML = docLinkHtml;\n",
              "          element.appendChild(docLink);\n",
              "        }\n",
              "      </script>\n",
              "    </div>\n",
              "  </div>\n",
              "  "
            ]
          },
          "metadata": {},
          "execution_count": 7
        }
      ]
    },
    {
      "cell_type": "code",
      "source": [
        "df.Volume.describe()"
      ],
      "metadata": {
        "colab": {
          "base_uri": "https://localhost:8080/",
          "height": 300
        },
        "id": "Ofm-cqT3-aoL",
        "outputId": "9c5ed7d9-147c-4db7-bc8b-165a0a710d1a"
      },
      "execution_count": null,
      "outputs": [
        {
          "output_type": "execute_result",
          "data": {
            "text/plain": [
              "Symbols        ALV.DE        DTG.DE        SIE.DE        BMW.DE\n",
              "count    3.230000e+02  8.200000e+01  3.230000e+02  3.230000e+02\n",
              "mean     1.037663e+06  2.867391e+06  1.580178e+06  1.448599e+06\n",
              "std      5.835227e+05  3.542365e+06  8.686682e+05  6.920965e+05\n",
              "min      0.000000e+00  5.469630e+05  0.000000e+00  0.000000e+00\n",
              "25%      6.926680e+05  1.429257e+06  1.096732e+06  1.016621e+06\n",
              "50%      9.006530e+05  2.169632e+06  1.347564e+06  1.304012e+06\n",
              "75%      1.143346e+06  3.022663e+06  1.758036e+06  1.637355e+06\n",
              "max      5.205191e+06  3.059077e+07  8.044888e+06  4.996797e+06"
            ],
            "text/html": [
              "\n",
              "  <div id=\"df-1aa777ff-ab43-4e5f-83a8-6bdb012662af\">\n",
              "    <div class=\"colab-df-container\">\n",
              "      <div>\n",
              "<style scoped>\n",
              "    .dataframe tbody tr th:only-of-type {\n",
              "        vertical-align: middle;\n",
              "    }\n",
              "\n",
              "    .dataframe tbody tr th {\n",
              "        vertical-align: top;\n",
              "    }\n",
              "\n",
              "    .dataframe thead th {\n",
              "        text-align: right;\n",
              "    }\n",
              "</style>\n",
              "<table border=\"1\" class=\"dataframe\">\n",
              "  <thead>\n",
              "    <tr style=\"text-align: right;\">\n",
              "      <th>Symbols</th>\n",
              "      <th>ALV.DE</th>\n",
              "      <th>DTG.DE</th>\n",
              "      <th>SIE.DE</th>\n",
              "      <th>BMW.DE</th>\n",
              "    </tr>\n",
              "  </thead>\n",
              "  <tbody>\n",
              "    <tr>\n",
              "      <th>count</th>\n",
              "      <td>3.230000e+02</td>\n",
              "      <td>8.200000e+01</td>\n",
              "      <td>3.230000e+02</td>\n",
              "      <td>3.230000e+02</td>\n",
              "    </tr>\n",
              "    <tr>\n",
              "      <th>mean</th>\n",
              "      <td>1.037663e+06</td>\n",
              "      <td>2.867391e+06</td>\n",
              "      <td>1.580178e+06</td>\n",
              "      <td>1.448599e+06</td>\n",
              "    </tr>\n",
              "    <tr>\n",
              "      <th>std</th>\n",
              "      <td>5.835227e+05</td>\n",
              "      <td>3.542365e+06</td>\n",
              "      <td>8.686682e+05</td>\n",
              "      <td>6.920965e+05</td>\n",
              "    </tr>\n",
              "    <tr>\n",
              "      <th>min</th>\n",
              "      <td>0.000000e+00</td>\n",
              "      <td>5.469630e+05</td>\n",
              "      <td>0.000000e+00</td>\n",
              "      <td>0.000000e+00</td>\n",
              "    </tr>\n",
              "    <tr>\n",
              "      <th>25%</th>\n",
              "      <td>6.926680e+05</td>\n",
              "      <td>1.429257e+06</td>\n",
              "      <td>1.096732e+06</td>\n",
              "      <td>1.016621e+06</td>\n",
              "    </tr>\n",
              "    <tr>\n",
              "      <th>50%</th>\n",
              "      <td>9.006530e+05</td>\n",
              "      <td>2.169632e+06</td>\n",
              "      <td>1.347564e+06</td>\n",
              "      <td>1.304012e+06</td>\n",
              "    </tr>\n",
              "    <tr>\n",
              "      <th>75%</th>\n",
              "      <td>1.143346e+06</td>\n",
              "      <td>3.022663e+06</td>\n",
              "      <td>1.758036e+06</td>\n",
              "      <td>1.637355e+06</td>\n",
              "    </tr>\n",
              "    <tr>\n",
              "      <th>max</th>\n",
              "      <td>5.205191e+06</td>\n",
              "      <td>3.059077e+07</td>\n",
              "      <td>8.044888e+06</td>\n",
              "      <td>4.996797e+06</td>\n",
              "    </tr>\n",
              "  </tbody>\n",
              "</table>\n",
              "</div>\n",
              "      <button class=\"colab-df-convert\" onclick=\"convertToInteractive('df-1aa777ff-ab43-4e5f-83a8-6bdb012662af')\"\n",
              "              title=\"Convert this dataframe to an interactive table.\"\n",
              "              style=\"display:none;\">\n",
              "        \n",
              "  <svg xmlns=\"http://www.w3.org/2000/svg\" height=\"24px\"viewBox=\"0 0 24 24\"\n",
              "       width=\"24px\">\n",
              "    <path d=\"M0 0h24v24H0V0z\" fill=\"none\"/>\n",
              "    <path d=\"M18.56 5.44l.94 2.06.94-2.06 2.06-.94-2.06-.94-.94-2.06-.94 2.06-2.06.94zm-11 1L8.5 8.5l.94-2.06 2.06-.94-2.06-.94L8.5 2.5l-.94 2.06-2.06.94zm10 10l.94 2.06.94-2.06 2.06-.94-2.06-.94-.94-2.06-.94 2.06-2.06.94z\"/><path d=\"M17.41 7.96l-1.37-1.37c-.4-.4-.92-.59-1.43-.59-.52 0-1.04.2-1.43.59L10.3 9.45l-7.72 7.72c-.78.78-.78 2.05 0 2.83L4 21.41c.39.39.9.59 1.41.59.51 0 1.02-.2 1.41-.59l7.78-7.78 2.81-2.81c.8-.78.8-2.07 0-2.86zM5.41 20L4 18.59l7.72-7.72 1.47 1.35L5.41 20z\"/>\n",
              "  </svg>\n",
              "      </button>\n",
              "      \n",
              "  <style>\n",
              "    .colab-df-container {\n",
              "      display:flex;\n",
              "      flex-wrap:wrap;\n",
              "      gap: 12px;\n",
              "    }\n",
              "\n",
              "    .colab-df-convert {\n",
              "      background-color: #E8F0FE;\n",
              "      border: none;\n",
              "      border-radius: 50%;\n",
              "      cursor: pointer;\n",
              "      display: none;\n",
              "      fill: #1967D2;\n",
              "      height: 32px;\n",
              "      padding: 0 0 0 0;\n",
              "      width: 32px;\n",
              "    }\n",
              "\n",
              "    .colab-df-convert:hover {\n",
              "      background-color: #E2EBFA;\n",
              "      box-shadow: 0px 1px 2px rgba(60, 64, 67, 0.3), 0px 1px 3px 1px rgba(60, 64, 67, 0.15);\n",
              "      fill: #174EA6;\n",
              "    }\n",
              "\n",
              "    [theme=dark] .colab-df-convert {\n",
              "      background-color: #3B4455;\n",
              "      fill: #D2E3FC;\n",
              "    }\n",
              "\n",
              "    [theme=dark] .colab-df-convert:hover {\n",
              "      background-color: #434B5C;\n",
              "      box-shadow: 0px 1px 3px 1px rgba(0, 0, 0, 0.15);\n",
              "      filter: drop-shadow(0px 1px 2px rgba(0, 0, 0, 0.3));\n",
              "      fill: #FFFFFF;\n",
              "    }\n",
              "  </style>\n",
              "\n",
              "      <script>\n",
              "        const buttonEl =\n",
              "          document.querySelector('#df-1aa777ff-ab43-4e5f-83a8-6bdb012662af button.colab-df-convert');\n",
              "        buttonEl.style.display =\n",
              "          google.colab.kernel.accessAllowed ? 'block' : 'none';\n",
              "\n",
              "        async function convertToInteractive(key) {\n",
              "          const element = document.querySelector('#df-1aa777ff-ab43-4e5f-83a8-6bdb012662af');\n",
              "          const dataTable =\n",
              "            await google.colab.kernel.invokeFunction('convertToInteractive',\n",
              "                                                     [key], {});\n",
              "          if (!dataTable) return;\n",
              "\n",
              "          const docLinkHtml = 'Like what you see? Visit the ' +\n",
              "            '<a target=\"_blank\" href=https://colab.research.google.com/notebooks/data_table.ipynb>data table notebook</a>'\n",
              "            + ' to learn more about interactive tables.';\n",
              "          element.innerHTML = '';\n",
              "          dataTable['output_type'] = 'display_data';\n",
              "          await google.colab.output.renderOutput(dataTable, element);\n",
              "          const docLink = document.createElement('div');\n",
              "          docLink.innerHTML = docLinkHtml;\n",
              "          element.appendChild(docLink);\n",
              "        }\n",
              "      </script>\n",
              "    </div>\n",
              "  </div>\n",
              "  "
            ]
          },
          "metadata": {},
          "execution_count": 8
        }
      ]
    },
    {
      "cell_type": "markdown",
      "source": [
        "##Basic plotting using matplotlib"
      ],
      "metadata": {
        "id": "sGADyPoK-rOR"
      }
    },
    {
      "cell_type": "code",
      "source": [
        "#without plotly, very basic, not interactive\n",
        "df.Close.plot(figsize = (10,10))"
      ],
      "metadata": {
        "colab": {
          "base_uri": "https://localhost:8080/",
          "height": 588
        },
        "id": "MM7agcH1-eL6",
        "outputId": "99311bc2-1dbe-4b78-f435-fdbe96780277"
      },
      "execution_count": null,
      "outputs": [
        {
          "output_type": "execute_result",
          "data": {
            "text/plain": [
              "<matplotlib.axes._subplots.AxesSubplot at 0x7f631e164210>"
            ]
          },
          "metadata": {},
          "execution_count": 9
        },
        {
          "output_type": "display_data",
          "data": {
            "text/plain": [
              "<Figure size 720x720 with 1 Axes>"
            ],
            "image/png": "[encoded data removed]"
          },
          "metadata": {
            "needs_background": "light"
          }
        }
      ]
    },
    {
      "cell_type": "markdown",
      "source": [
        "#Volatilty Project"
      ],
      "metadata": {
        "id": "TNOV9pfrh3SB"
      }
    },
    {
      "cell_type": "markdown",
      "source": [
        "##Calculate log returns"
      ],
      "metadata": {
        "id": "kf4x_xPyju5d"
      }
    },
    {
      "cell_type": "code",
      "source": [
        "logReturns = np.log(df.Close / df.Close.shift(1)).dropna()\n",
        "logReturns"
      ],
      "metadata": {
        "colab": {
          "base_uri": "https://localhost:8080/",
          "height": 455
        },
        "id": "kKO-udQwhUdO",
        "outputId": "ab55a1ac-1b45-47a6-f4e6-2407aeada860"
      },
      "execution_count": null,
      "outputs": [
        {
          "output_type": "execute_result",
          "data": {
            "text/plain": [
              "Symbols       ALV.DE    DTG.DE    SIE.DE    BMW.DE\n",
              "Date                                              \n",
              "2021-12-13 -0.004697  0.101626 -0.003183  0.002451\n",
              "2021-12-14 -0.002978 -0.001822 -0.021755 -0.016603\n",
              "2021-12-15  0.004958  0.004549  0.008382 -0.001472\n",
              "2021-12-16  0.015459 -0.013249  0.009646  0.015401\n",
              "2021-12-17 -0.003170 -0.037964 -0.014099 -0.030814\n",
              "...              ...       ...       ...       ...\n",
              "2022-03-31  0.001155 -0.042485 -0.034108 -0.020900\n",
              "2022-04-01  0.006674 -0.005166  0.008242  0.005076\n",
              "2022-04-04 -0.005289  0.003182 -0.007765  0.010702\n",
              "2022-04-05 -0.003465 -0.051962 -0.030036 -0.021136\n",
              "2022-04-06 -0.009532 -0.028428 -0.042531 -0.039395\n",
              "\n",
              "[81 rows x 4 columns]"
            ],
            "text/html": [
              "\n",
              "  <div id=\"df-8873077a-f099-4cbf-be62-6312f1f9689b\">\n",
              "    <div class=\"colab-df-container\">\n",
              "      <div>\n",
              "<style scoped>\n",
              "    .dataframe tbody tr th:only-of-type {\n",
              "        vertical-align: middle;\n",
              "    }\n",
              "\n",
              "    .dataframe tbody tr th {\n",
              "        vertical-align: top;\n",
              "    }\n",
              "\n",
              "    .dataframe thead th {\n",
              "        text-align: right;\n",
              "    }\n",
              "</style>\n",
              "<table border=\"1\" class=\"dataframe\">\n",
              "  <thead>\n",
              "    <tr style=\"text-align: right;\">\n",
              "      <th>Symbols</th>\n",
              "      <th>ALV.DE</th>\n",
              "      <th>DTG.DE</th>\n",
              "      <th>SIE.DE</th>\n",
              "      <th>BMW.DE</th>\n",
              "    </tr>\n",
              "    <tr>\n",
              "      <th>Date</th>\n",
              "      <th></th>\n",
              "      <th></th>\n",
              "      <th></th>\n",
              "      <th></th>\n",
              "    </tr>\n",
              "  </thead>\n",
              "  <tbody>\n",
              "    <tr>\n",
              "      <th>2021-12-13</th>\n",
              "      <td>-0.004697</td>\n",
              "      <td>0.101626</td>\n",
              "      <td>-0.003183</td>\n",
              "      <td>0.002451</td>\n",
              "    </tr>\n",
              "    <tr>\n",
              "      <th>2021-12-14</th>\n",
              "      <td>-0.002978</td>\n",
              "      <td>-0.001822</td>\n",
              "      <td>-0.021755</td>\n",
              "      <td>-0.016603</td>\n",
              "    </tr>\n",
              "    <tr>\n",
              "      <th>2021-12-15</th>\n",
              "      <td>0.004958</td>\n",
              "      <td>0.004549</td>\n",
              "      <td>0.008382</td>\n",
              "      <td>-0.001472</td>\n",
              "    </tr>\n",
              "    <tr>\n",
              "      <th>2021-12-16</th>\n",
              "      <td>0.015459</td>\n",
              "      <td>-0.013249</td>\n",
              "      <td>0.009646</td>\n",
              "      <td>0.015401</td>\n",
              "    </tr>\n",
              "    <tr>\n",
              "      <th>2021-12-17</th>\n",
              "      <td>-0.003170</td>\n",
              "      <td>-0.037964</td>\n",
              "      <td>-0.014099</td>\n",
              "      <td>-0.030814</td>\n",
              "    </tr>\n",
              "    <tr>\n",
              "      <th>...</th>\n",
              "      <td>...</td>\n",
              "      <td>...</td>\n",
              "      <td>...</td>\n",
              "      <td>...</td>\n",
              "    </tr>\n",
              "    <tr>\n",
              "      <th>2022-03-31</th>\n",
              "      <td>0.001155</td>\n",
              "      <td>-0.042485</td>\n",
              "      <td>-0.034108</td>\n",
              "      <td>-0.020900</td>\n",
              "    </tr>\n",
              "    <tr>\n",
              "      <th>2022-04-01</th>\n",
              "      <td>0.006674</td>\n",
              "      <td>-0.005166</td>\n",
              "      <td>0.008242</td>\n",
              "      <td>0.005076</td>\n",
              "    </tr>\n",
              "    <tr>\n",
              "      <th>2022-04-04</th>\n",
              "      <td>-0.005289</td>\n",
              "      <td>0.003182</td>\n",
              "      <td>-0.007765</td>\n",
              "      <td>0.010702</td>\n",
              "    </tr>\n",
              "    <tr>\n",
              "      <th>2022-04-05</th>\n",
              "      <td>-0.003465</td>\n",
              "      <td>-0.051962</td>\n",
              "      <td>-0.030036</td>\n",
              "      <td>-0.021136</td>\n",
              "    </tr>\n",
              "    <tr>\n",
              "      <th>2022-04-06</th>\n",
              "      <td>-0.009532</td>\n",
              "      <td>-0.028428</td>\n",
              "      <td>-0.042531</td>\n",
              "      <td>-0.039395</td>\n",
              "    </tr>\n",
              "  </tbody>\n",
              "</table>\n",
              "<p>81 rows × 4 columns</p>\n",
              "</div>\n",
              "      <button class=\"colab-df-convert\" onclick=\"convertToInteractive('df-8873077a-f099-4cbf-be62-6312f1f9689b')\"\n",
              "              title=\"Convert this dataframe to an interactive table.\"\n",
              "              style=\"display:none;\">\n",
              "        \n",
              "  <svg xmlns=\"http://www.w3.org/2000/svg\" height=\"24px\"viewBox=\"0 0 24 24\"\n",
              "       width=\"24px\">\n",
              "    <path d=\"M0 0h24v24H0V0z\" fill=\"none\"/>\n",
              "    <path d=\"M18.56 5.44l.94 2.06.94-2.06 2.06-.94-2.06-.94-.94-2.06-.94 2.06-2.06.94zm-11 1L8.5 8.5l.94-2.06 2.06-.94-2.06-.94L8.5 2.5l-.94 2.06-2.06.94zm10 10l.94 2.06.94-2.06 2.06-.94-2.06-.94-.94-2.06-.94 2.06-2.06.94z\"/><path d=\"M17.41 7.96l-1.37-1.37c-.4-.4-.92-.59-1.43-.59-.52 0-1.04.2-1.43.59L10.3 9.45l-7.72 7.72c-.78.78-.78 2.05 0 2.83L4 21.41c.39.39.9.59 1.41.59.51 0 1.02-.2 1.41-.59l7.78-7.78 2.81-2.81c.8-.78.8-2.07 0-2.86zM5.41 20L4 18.59l7.72-7.72 1.47 1.35L5.41 20z\"/>\n",
              "  </svg>\n",
              "      </button>\n",
              "      \n",
              "  <style>\n",
              "    .colab-df-container {\n",
              "      display:flex;\n",
              "      flex-wrap:wrap;\n",
              "      gap: 12px;\n",
              "    }\n",
              "\n",
              "    .colab-df-convert {\n",
              "      background-color: #E8F0FE;\n",
              "      border: none;\n",
              "      border-radius: 50%;\n",
              "      cursor: pointer;\n",
              "      display: none;\n",
              "      fill: #1967D2;\n",
              "      height: 32px;\n",
              "      padding: 0 0 0 0;\n",
              "      width: 32px;\n",
              "    }\n",
              "\n",
              "    .colab-df-convert:hover {\n",
              "      background-color: #E2EBFA;\n",
              "      box-shadow: 0px 1px 2px rgba(60, 64, 67, 0.3), 0px 1px 3px 1px rgba(60, 64, 67, 0.15);\n",
              "      fill: #174EA6;\n",
              "    }\n",
              "\n",
              "    [theme=dark] .colab-df-convert {\n",
              "      background-color: #3B4455;\n",
              "      fill: #D2E3FC;\n",
              "    }\n",
              "\n",
              "    [theme=dark] .colab-df-convert:hover {\n",
              "      background-color: #434B5C;\n",
              "      box-shadow: 0px 1px 3px 1px rgba(0, 0, 0, 0.15);\n",
              "      filter: drop-shadow(0px 1px 2px rgba(0, 0, 0, 0.3));\n",
              "      fill: #FFFFFF;\n",
              "    }\n",
              "  </style>\n",
              "\n",
              "      <script>\n",
              "        const buttonEl =\n",
              "          document.querySelector('#df-8873077a-f099-4cbf-be62-6312f1f9689b button.colab-df-convert');\n",
              "        buttonEl.style.display =\n",
              "          google.colab.kernel.accessAllowed ? 'block' : 'none';\n",
              "\n",
              "        async function convertToInteractive(key) {\n",
              "          const element = document.querySelector('#df-8873077a-f099-4cbf-be62-6312f1f9689b');\n",
              "          const dataTable =\n",
              "            await google.colab.kernel.invokeFunction('convertToInteractive',\n",
              "                                                     [key], {});\n",
              "          if (!dataTable) return;\n",
              "\n",
              "          const docLinkHtml = 'Like what you see? Visit the ' +\n",
              "            '<a target=\"_blank\" href=https://colab.research.google.com/notebooks/data_table.ipynb>data table notebook</a>'\n",
              "            + ' to learn more about interactive tables.';\n",
              "          element.innerHTML = '';\n",
              "          dataTable['output_type'] = 'display_data';\n",
              "          await google.colab.output.renderOutput(dataTable, element);\n",
              "          const docLink = document.createElement('div');\n",
              "          docLink.innerHTML = docLinkHtml;\n",
              "          element.appendChild(docLink);\n",
              "        }\n",
              "      </script>\n",
              "    </div>\n",
              "  </div>\n",
              "  "
            ]
          },
          "metadata": {},
          "execution_count": 10
        }
      ]
    },
    {
      "cell_type": "markdown",
      "source": [
        "##Calculate daily + annual standard dev of returns"
      ],
      "metadata": {
        "id": "xXojWR3qke8n"
      }
    },
    {
      "cell_type": "code",
      "source": [
        "dailyStanDev = logReturns.std()\n",
        "dailyStanDev"
      ],
      "metadata": {
        "colab": {
          "base_uri": "https://localhost:8080/"
        },
        "id": "EE_idZz-h1xZ",
        "outputId": "a1589d0d-9112-4cfb-b886-b11c80a86550"
      },
      "execution_count": null,
      "outputs": [
        {
          "output_type": "execute_result",
          "data": {
            "text/plain": [
              "Symbols\n",
              "ALV.DE    0.017644\n",
              "DTG.DE    0.031021\n",
              "SIE.DE    0.026568\n",
              "BMW.DE    0.025400\n",
              "dtype: float64"
            ]
          },
          "metadata": {},
          "execution_count": 11
        }
      ]
    },
    {
      "cell_type": "code",
      "source": [
        "#to convert to annual stan dev, mul by sqrt(252). 252 cuz 252 trading days in 1 year.\n",
        "annStanDev = dailyStanDev * np.sqrt(252)\n",
        "annStanDev"
      ],
      "metadata": {
        "colab": {
          "base_uri": "https://localhost:8080/"
        },
        "id": "_etndnkEk3wr",
        "outputId": "47f4398f-186b-4fb4-a6e3-9d525c92775d"
      },
      "execution_count": null,
      "outputs": [
        {
          "output_type": "execute_result",
          "data": {
            "text/plain": [
              "Symbols\n",
              "ALV.DE    0.280093\n",
              "DTG.DE    0.492443\n",
              "SIE.DE    0.421759\n",
              "BMW.DE    0.403213\n",
              "dtype: float64"
            ]
          },
          "metadata": {},
          "execution_count": 12
        }
      ]
    },
    {
      "cell_type": "code",
      "source": [
        "# as a %\n",
        "vol = annStanDev * 100\n",
        "vol"
      ],
      "metadata": {
        "colab": {
          "base_uri": "https://localhost:8080/"
        },
        "id": "YDQS2Kbrl3l-",
        "outputId": "d68b28a7-32e9-430a-a644-25e85115e71d"
      },
      "execution_count": null,
      "outputs": [
        {
          "output_type": "execute_result",
          "data": {
            "text/plain": [
              "Symbols\n",
              "ALV.DE    28.009278\n",
              "DTG.DE    49.244303\n",
              "SIE.DE    42.175938\n",
              "BMW.DE    40.321270\n",
              "dtype: float64"
            ]
          },
          "metadata": {},
          "execution_count": 13
        }
      ]
    },
    {
      "cell_type": "markdown",
      "source": [
        "##Plotting"
      ],
      "metadata": {
        "id": "LX00v8AqlK54"
      }
    },
    {
      "cell_type": "code",
      "source": [
        "fig = make_subplots(rows = 2, cols = 2)\n",
        "chart1 = go.Histogram(x = logReturns[\"ALV.DE\"], name = \"Allianz\")\n",
        "chart2 = go.Histogram(x = logReturns[\"DTG.DE\"], name = \"Daimler\")\n",
        "chart3 = go.Histogram(x = logReturns[\"SIE.DE\"], name = \"Siemens\")\n",
        "chart4 = go.Histogram(x = logReturns[\"BMW.DE\"], name = \"BMW\")\n",
        "\n",
        "fig.append_trace(chart1, 1, 1)\n",
        "fig.append_trace(chart2, 1, 2)\n",
        "fig.append_trace(chart3, 2, 1)\n",
        "fig.append_trace(chart4, 2, 2)\n",
        "\n",
        "fig.update_layout(autosize = False, width = 600, height = 600, title = \"Log Returns\")\n",
        "\n",
        "fig.show()\n"
      ],
      "metadata": {
        "colab": {
          "base_uri": "https://localhost:8080/",
          "height": 617
        },
        "id": "LMPZqErilMfu",
        "outputId": "e994fd0e-45d1-42e0-8446-961ede7f1b9d"
      },
      "execution_count": null,
      "outputs": [
        {
          "output_type": "display_data",
          "data": {
            "text/html": [
              "<html>\n",
              "<head><meta charset=\"utf-8\" /></head>\n",
              "<body>\n",
              "    <div>            <script src=\"https://cdnjs.cloudflare.com/ajax/libs/mathjax/2.7.5/MathJax.js?config=TeX-AMS-MML_SVG\"></script><script type=\"text/javascript\">if (window.MathJax) {MathJax.Hub.Config({SVG: {font: \"STIX-Web\"}});}</script>                <script type=\"text/javascript\">window.PlotlyConfig = {MathJaxConfig: 'local'};</script>\n",
              "        <script src=\"https://cdn.plot.ly/plotly-2.11.1.min.js\"></script>                <div id=\"dbea4644-cb9f-469f-8961-30be3a659c12\" class=\"plotly-graph-div\" style=\"height:600px; width:600px;\"></div>            <script type=\"text/javascript\">                                    window.PLOTLYENV=window.PLOTLYENV || {};                                    if (document.getElementById(\"dbea4644-cb9f-469f-8961-30be3a659c12\")) {                    Plotly.newPlot(                        \"dbea4644-cb9f-469f-8961-30be3a659c12\",                        [{\"name\":\"Allianz\",\"x\":[-0.00469656995332894,-0.002977699984391657,0.004957868435800662,0.015458578631466055,-0.003170392366265341,-0.01848937205024547,0.013837646412414488,0.0036742233618843254,0.012150817782512528,0.002653495937402073,0.007679379502956191,-0.00503290597641472,-0.0021648220458355028,0.010539078181257551,0.0281907314134049,0.004160865382511761,0.014882930691710239,0.011524262822185632,0.003812050139533935,0.010685805916794168,0.001106562010105158,0.005954327235016798,-0.0017605369945945593,0.00022025350346380416,-0.004856548633919245,-0.009560912837028677,0.004458322081052341,-0.01388602873796381,-0.02327274011137478,0.015802444379942517,0.02135632446939623,0.017199956089829882,-0.003943023275065101,-0.001977357292375568,-0.0008801417819267462,-0.0004402943505668932,-0.0070718796540689,-0.014295516936783685,0.015625317903080815,0.017998756509484303,0.009094869234209352,-0.011708706904214326,0.0013077728531800266,-0.028500755193510557,0.012250960329012246,-0.001994514598176674,-0.01294947292078428,-0.03848387750287855,-0.02722383694042294,-0.008434800934785757,-0.0012108004511553702,-0.030256934139477797,0.03557348043049093,-0.02020759642265879,-0.03799766298749675,0.008141740826108228,-0.006406091102780561,-0.039004476700998054,-0.028728622430677638,0.025435152695706367,0.07016279052732008,-0.017513581957807667,0.028121767606191624,0.026874891911764433,-0.0019130046876205595,0.03272811093302346,-0.01118115137146446,-0.007288162436176778,0.002121449031496975,0.01240214262566762,-0.010050307178305077,-0.0009401279518816493,0.003052046787179056,0.00677492107970967,0.017540274408618266,-0.010348488205057354,0.001155134685334315,0.006673581035828989,-0.005289164361458063,-0.0034646066708501418,-0.009531644908606359],\"type\":\"histogram\",\"xaxis\":\"x\",\"yaxis\":\"y\"},{\"name\":\"Daimler\",\"x\":[0.10162557483473066,-0.001821973113725583,0.004548839062670897,-0.01324918650220381,-0.03796447594560002,-0.029081197152124254,0.010599390187713276,0.002430097757321827,0.04740229833490944,-0.0035557485411584636,-0.004190223207283594,0.01051990319716704,-0.006174788218574137,-0.00902171032373479,0.0,0.016426800160075566,-0.01642680016007555,0.006541032119681539,0.038970002005151,0.02971238711275499,-0.007272759329079809,-0.008945005944925338,0.029749027219127443,0.013350501004696494,-0.0324041900908059,-0.04485594479676474,0.006078145403396229,-0.01004886134200614,-0.031240373201375075,0.005824478238644158,0.03030065056204773,-0.01859731013595352,-0.017054315704054825,-0.00967264535958773,0.02858689256278807,-0.014976924151393923,-0.001730522145515715,-0.0009451412018379978,0.006284352396020325,0.018619693291866232,0.021443997278287975,-0.020829377828781852,-0.0061642035260710245,-0.030766872984693265,0.009361435381944337,-0.005066503801699054,0.0,-0.007168501675886077,-0.0201863942194754,-0.013301740629509527,-0.023585601210682143,-0.048375572915568724,0.0017749112549244781,-0.036663226484438795,-0.07861805357171145,-0.0516599241289352,-0.01946743618877409,-0.06010391469237672,0.020883217841220658,0.012806574219545204,0.08048139109224837,-0.0652405791331099,0.03607437192182658,0.010160827171169146,-0.039344566654581914,0.05368313579716458,0.01993424909806013,-0.022989505844371212,-0.003678735071526608,-0.010083462026467203,-0.006848590014398607,0.06840956590208841,-0.011933953594359331,0.03614267003448321,0.026043615081735895,-0.026613230188286787,-0.042485342492253796,-0.005165883173605512,0.003182179400234693,-0.05196236993397534,-0.0284278819964258],\"type\":\"histogram\",\"xaxis\":\"x2\",\"yaxis\":\"y2\"},{\"name\":\"Siemens\",\"x\":[-0.0031829983247024032,-0.021754518328311042,0.008381759317389548,0.009646393485611665,-0.014098965647356632,-0.02201197198857768,0.013047010529227887,0.007205507038195658,0.01732402035622323,0.003853581427007995,0.013306330335538883,-0.006828710213330595,0.005912083972800931,0.006788593731739666,0.010998344362038594,0.016210760922274883,-0.024350831060677546,-0.013058424996790422,-0.028531455777391537,0.016232149976192923,0.012693533795208415,-0.004741225909156286,-0.03793836320883413,0.0009593599677468552,-0.0235630709264894,0.012128051490869483,0.01758043935833529,-0.016334105788500877,-0.050230459843172814,0.007827274378482076,0.01944585957473526,-0.0052531211787950095,-0.01549309207316623,0.011070550401692815,0.007549338118858367,-0.002984427418912983,-0.026683610937637377,-0.02952087792391079,0.020564051576747264,0.007347571300883644,0.011355468526360196,0.046111896115606135,-0.02264874030991468,-0.013811014888986459,0.027573284341228306,-0.006015270630561036,-0.021558013710667304,-0.022912862186906007,-0.020451176069473352,-0.011595706867271946,-0.0037939193050639916,-0.05757880843843063,0.04364616245513518,-0.02387193084821414,-0.050188619985880624,0.027349644885889916,-0.017765932625932436,-0.07156861288506695,0.004933909203669361,0.015003781367973448,0.10056984744238351,-0.037005812073443355,0.03355480910805217,0.014662599804511343,-0.006213153246697692,0.059579255677537524,-0.012556573979120555,0.01108740809176704,-0.021998445877510125,0.0009012702858654822,-0.016654411994042297,-0.0067402591214588605,-0.01346241016200232,0.006366913810394218,0.039905239244882464,-0.03357848933661634,-0.03410844151855038,0.008242187122806359,-0.007764841601542876,-0.030036176905807333,-0.04253112015095979],\"type\":\"histogram\",\"xaxis\":\"x3\",\"yaxis\":\"y3\"},{\"name\":\"BMW\",\"x\":[0.0024506371871076305,-0.016603429854134245,-0.0014717259028192472,0.015401381121954646,-0.030813507801554518,-0.02010404960913673,0.02205793994182044,0.004010847134278442,0.019591767823148535,0.009265030717902377,-0.0005557438609921735,-0.008372921095841281,-0.007991478235098274,0.03158981361402973,0.03083470400237778,0.02153100471477387,-0.00020780051162304675,-0.006464444861612647,0.01659787597342857,0.00840082516425805,-0.005832110596536044,0.015982421394275394,0.0030251415356089234,-0.00302514153560891,-0.0008081855565187185,-0.010975738377221747,-0.0105810095645314,-0.01320258562423672,-0.04363389105879698,0.006537378448704022,0.022443855778727737,-0.001806857807827534,-0.017167787108524565,0.005934686173721347,0.014313467852082483,-0.006490426640180432,0.0008536260656275856,-0.04471356904103243,0.002228130862565827,0.0005563002932520574,0.03733240846928332,-0.006018343717170701,0.026906567203170074,-0.028848737774732017,0.02495867620038623,-0.009313192913164738,0.020209067153880968,-0.0061667712752957755,-0.03293308087627335,-0.014845820103616366,0.0075596353425870675,-0.07511604106111593,0.0350304458691855,-0.016726236351254514,-0.04816073891758692,-0.02367482987093194,-0.038595230250738743,-0.058578641972251426,-0.03593203595478287,0.007487587568271717,0.06997752514791956,-0.05669530362722936,0.005816360037613459,0.027376611418322372,0.011886609265237545,0.040078247081874546,-0.02231347313058405,-0.010093769183128699,0.020086769989354332,0.020703552493371056,-0.01017038290926838,0.0026797576168375472,-0.007418834599898823,0.004483431327216053,0.054591779050564095,-0.02910138601841852,-0.020899711433204897,0.005076172445078493,0.010702003084683396,-0.021135991283394325,-0.03939464099886724],\"type\":\"histogram\",\"xaxis\":\"x4\",\"yaxis\":\"y4\"}],                        {\"template\":{\"data\":{\"histogram2dcontour\":[{\"type\":\"histogram2dcontour\",\"colorbar\":{\"outlinewidth\":0,\"ticks\":\"\"},\"colorscale\":[[0.0,\"#0d0887\"],[0.1111111111111111,\"#46039f\"],[0.2222222222222222,\"#7201a8\"],[0.3333333333333333,\"#9c179e\"],[0.4444444444444444,\"#bd3786\"],[0.5555555555555556,\"#d8576b\"],[0.6666666666666666,\"#ed7953\"],[0.7777777777777778,\"#fb9f3a\"],[0.8888888888888888,\"#fdca26\"],[1.0,\"#f0f921\"]]}],\"choropleth\":[{\"type\":\"choropleth\",\"colorbar\":{\"outlinewidth\":0,\"ticks\":\"\"}}],\"histogram2d\":[{\"type\":\"histogram2d\",\"colorbar\":{\"outlinewidth\":0,\"ticks\":\"\"},\"colorscale\":[[0.0,\"#0d0887\"],[0.1111111111111111,\"#46039f\"],[0.2222222222222222,\"#7201a8\"],[0.3333333333333333,\"#9c179e\"],[0.4444444444444444,\"#bd3786\"],[0.5555555555555556,\"#d8576b\"],[0.6666666666666666,\"#ed7953\"],[0.7777777777777778,\"#fb9f3a\"],[0.8888888888888888,\"#fdca26\"],[1.0,\"#f0f921\"]]}],\"heatmap\":[{\"type\":\"heatmap\",\"colorbar\":{\"outlinewidth\":0,\"ticks\":\"\"},\"colorscale\":[[0.0,\"#0d0887\"],[0.1111111111111111,\"#46039f\"],[0.2222222222222222,\"#7201a8\"],[0.3333333333333333,\"#9c179e\"],[0.4444444444444444,\"#bd3786\"],[0.5555555555555556,\"#d8576b\"],[0.6666666666666666,\"#ed7953\"],[0.7777777777777778,\"#fb9f3a\"],[0.8888888888888888,\"#fdca26\"],[1.0,\"#f0f921\"]]}],\"heatmapgl\":[{\"type\":\"heatmapgl\",\"colorbar\":{\"outlinewidth\":0,\"ticks\":\"\"},\"colorscale\":[[0.0,\"#0d0887\"],[0.1111111111111111,\"#46039f\"],[0.2222222222222222,\"#7201a8\"],[0.3333333333333333,\"#9c179e\"],[0.4444444444444444,\"#bd3786\"],[0.5555555555555556,\"#d8576b\"],[0.6666666666666666,\"#ed7953\"],[0.7777777777777778,\"#fb9f3a\"],[0.8888888888888888,\"#fdca26\"],[1.0,\"#f0f921\"]]}],\"contourcarpet\":[{\"type\":\"contourcarpet\",\"colorbar\":{\"outlinewidth\":0,\"ticks\":\"\"}}],\"contour\":[{\"type\":\"contour\",\"colorbar\":{\"outlinewidth\":0,\"ticks\":\"\"},\"colorscale\":[[0.0,\"#0d0887\"],[0.1111111111111111,\"#46039f\"],[0.2222222222222222,\"#7201a8\"],[0.3333333333333333,\"#9c179e\"],[0.4444444444444444,\"#bd3786\"],[0.5555555555555556,\"#d8576b\"],[0.6666666666666666,\"#ed7953\"],[0.7777777777777778,\"#fb9f3a\"],[0.8888888888888888,\"#fdca26\"],[1.0,\"#f0f921\"]]}],\"surface\":[{\"type\":\"surface\",\"colorbar\":{\"outlinewidth\":0,\"ticks\":\"\"},\"colorscale\":[[0.0,\"#0d0887\"],[0.1111111111111111,\"#46039f\"],[0.2222222222222222,\"#7201a8\"],[0.3333333333333333,\"#9c179e\"],[0.4444444444444444,\"#bd3786\"],[0.5555555555555556,\"#d8576b\"],[0.6666666666666666,\"#ed7953\"],[0.7777777777777778,\"#fb9f3a\"],[0.8888888888888888,\"#fdca26\"],[1.0,\"#f0f921\"]]}],\"mesh3d\":[{\"type\":\"mesh3d\",\"colorbar\":{\"outlinewidth\":0,\"ticks\":\"\"}}],\"scatter\":[{\"fillpattern\":{\"fillmode\":\"overlay\",\"size\":10,\"solidity\":0.2},\"type\":\"scatter\"}],\"parcoords\":[{\"type\":\"parcoords\",\"line\":{\"colorbar\":{\"outlinewidth\":0,\"ticks\":\"\"}}}],\"scatterpolargl\":[{\"type\":\"scatterpolargl\",\"marker\":{\"colorbar\":{\"outlinewidth\":0,\"ticks\":\"\"}}}],\"bar\":[{\"error_x\":{\"color\":\"#2a3f5f\"},\"error_y\":{\"color\":\"#2a3f5f\"},\"marker\":{\"line\":{\"color\":\"#E5ECF6\",\"width\":0.5},\"pattern\":{\"fillmode\":\"overlay\",\"size\":10,\"solidity\":0.2}},\"type\":\"bar\"}],\"scattergeo\":[{\"type\":\"scattergeo\",\"marker\":{\"colorbar\":{\"outlinewidth\":0,\"ticks\":\"\"}}}],\"scatterpolar\":[{\"type\":\"scatterpolar\",\"marker\":{\"colorbar\":{\"outlinewidth\":0,\"ticks\":\"\"}}}],\"histogram\":[{\"marker\":{\"pattern\":{\"fillmode\":\"overlay\",\"size\":10,\"solidity\":0.2}},\"type\":\"histogram\"}],\"scattergl\":[{\"type\":\"scattergl\",\"marker\":{\"colorbar\":{\"outlinewidth\":0,\"ticks\":\"\"}}}],\"scatter3d\":[{\"type\":\"scatter3d\",\"line\":{\"colorbar\":{\"outlinewidth\":0,\"ticks\":\"\"}},\"marker\":{\"colorbar\":{\"outlinewidth\":0,\"ticks\":\"\"}}}],\"scattermapbox\":[{\"type\":\"scattermapbox\",\"marker\":{\"colorbar\":{\"outlinewidth\":0,\"ticks\":\"\"}}}],\"scatterternary\":[{\"type\":\"scatterternary\",\"marker\":{\"colorbar\":{\"outlinewidth\":0,\"ticks\":\"\"}}}],\"scattercarpet\":[{\"type\":\"scattercarpet\",\"marker\":{\"colorbar\":{\"outlinewidth\":0,\"ticks\":\"\"}}}],\"carpet\":[{\"aaxis\":{\"endlinecolor\":\"#2a3f5f\",\"gridcolor\":\"white\",\"linecolor\":\"white\",\"minorgridcolor\":\"white\",\"startlinecolor\":\"#2a3f5f\"},\"baxis\":{\"endlinecolor\":\"#2a3f5f\",\"gridcolor\":\"white\",\"linecolor\":\"white\",\"minorgridcolor\":\"white\",\"startlinecolor\":\"#2a3f5f\"},\"type\":\"carpet\"}],\"table\":[{\"cells\":{\"fill\":{\"color\":\"#EBF0F8\"},\"line\":{\"color\":\"white\"}},\"header\":{\"fill\":{\"color\":\"#C8D4E3\"},\"line\":{\"color\":\"white\"}},\"type\":\"table\"}],\"barpolar\":[{\"marker\":{\"line\":{\"color\":\"#E5ECF6\",\"width\":0.5},\"pattern\":{\"fillmode\":\"overlay\",\"size\":10,\"solidity\":0.2}},\"type\":\"barpolar\"}],\"pie\":[{\"automargin\":true,\"type\":\"pie\"}]},\"layout\":{\"autotypenumbers\":\"strict\",\"colorway\":[\"#636efa\",\"#EF553B\",\"#00cc96\",\"#ab63fa\",\"#FFA15A\",\"#19d3f3\",\"#FF6692\",\"#B6E880\",\"#FF97FF\",\"#FECB52\"],\"font\":{\"color\":\"#2a3f5f\"},\"hovermode\":\"closest\",\"hoverlabel\":{\"align\":\"left\"},\"paper_bgcolor\":\"white\",\"plot_bgcolor\":\"#E5ECF6\",\"polar\":{\"bgcolor\":\"#E5ECF6\",\"angularaxis\":{\"gridcolor\":\"white\",\"linecolor\":\"white\",\"ticks\":\"\"},\"radialaxis\":{\"gridcolor\":\"white\",\"linecolor\":\"white\",\"ticks\":\"\"}},\"ternary\":{\"bgcolor\":\"#E5ECF6\",\"aaxis\":{\"gridcolor\":\"white\",\"linecolor\":\"white\",\"ticks\":\"\"},\"baxis\":{\"gridcolor\":\"white\",\"linecolor\":\"white\",\"ticks\":\"\"},\"caxis\":{\"gridcolor\":\"white\",\"linecolor\":\"white\",\"ticks\":\"\"}},\"coloraxis\":{\"colorbar\":{\"outlinewidth\":0,\"ticks\":\"\"}},\"colorscale\":{\"sequential\":[[0.0,\"#0d0887\"],[0.1111111111111111,\"#46039f\"],[0.2222222222222222,\"#7201a8\"],[0.3333333333333333,\"#9c179e\"],[0.4444444444444444,\"#bd3786\"],[0.5555555555555556,\"#d8576b\"],[0.6666666666666666,\"#ed7953\"],[0.7777777777777778,\"#fb9f3a\"],[0.8888888888888888,\"#fdca26\"],[1.0,\"#f0f921\"]],\"sequentialminus\":[[0.0,\"#0d0887\"],[0.1111111111111111,\"#46039f\"],[0.2222222222222222,\"#7201a8\"],[0.3333333333333333,\"#9c179e\"],[0.4444444444444444,\"#bd3786\"],[0.5555555555555556,\"#d8576b\"],[0.6666666666666666,\"#ed7953\"],[0.7777777777777778,\"#fb9f3a\"],[0.8888888888888888,\"#fdca26\"],[1.0,\"#f0f921\"]],\"diverging\":[[0,\"#8e0152\"],[0.1,\"#c51b7d\"],[0.2,\"#de77ae\"],[0.3,\"#f1b6da\"],[0.4,\"#fde0ef\"],[0.5,\"#f7f7f7\"],[0.6,\"#e6f5d0\"],[0.7,\"#b8e186\"],[0.8,\"#7fbc41\"],[0.9,\"#4d9221\"],[1,\"#276419\"]]},\"xaxis\":{\"gridcolor\":\"white\",\"linecolor\":\"white\",\"ticks\":\"\",\"title\":{\"standoff\":15},\"zerolinecolor\":\"white\",\"automargin\":true,\"zerolinewidth\":2},\"yaxis\":{\"gridcolor\":\"white\",\"linecolor\":\"white\",\"ticks\":\"\",\"title\":{\"standoff\":15},\"zerolinecolor\":\"white\",\"automargin\":true,\"zerolinewidth\":2},\"scene\":{\"xaxis\":{\"backgroundcolor\":\"#E5ECF6\",\"gridcolor\":\"white\",\"linecolor\":\"white\",\"showbackground\":true,\"ticks\":\"\",\"zerolinecolor\":\"white\",\"gridwidth\":2},\"yaxis\":{\"backgroundcolor\":\"#E5ECF6\",\"gridcolor\":\"white\",\"linecolor\":\"white\",\"showbackground\":true,\"ticks\":\"\",\"zerolinecolor\":\"white\",\"gridwidth\":2},\"zaxis\":{\"backgroundcolor\":\"#E5ECF6\",\"gridcolor\":\"white\",\"linecolor\":\"white\",\"showbackground\":true,\"ticks\":\"\",\"zerolinecolor\":\"white\",\"gridwidth\":2}},\"shapedefaults\":{\"line\":{\"color\":\"#2a3f5f\"}},\"annotationdefaults\":{\"arrowcolor\":\"#2a3f5f\",\"arrowhead\":0,\"arrowwidth\":1},\"geo\":{\"bgcolor\":\"white\",\"landcolor\":\"#E5ECF6\",\"subunitcolor\":\"white\",\"showland\":true,\"showlakes\":true,\"lakecolor\":\"white\"},\"title\":{\"x\":0.05},\"mapbox\":{\"style\":\"light\"}}},\"xaxis\":{\"anchor\":\"y\",\"domain\":[0.0,0.45]},\"yaxis\":{\"anchor\":\"x\",\"domain\":[0.575,1.0]},\"xaxis2\":{\"anchor\":\"y2\",\"domain\":[0.55,1.0]},\"yaxis2\":{\"anchor\":\"x2\",\"domain\":[0.575,1.0]},\"xaxis3\":{\"anchor\":\"y3\",\"domain\":[0.0,0.45]},\"yaxis3\":{\"anchor\":\"x3\",\"domain\":[0.0,0.425]},\"xaxis4\":{\"anchor\":\"y4\",\"domain\":[0.55,1.0]},\"yaxis4\":{\"anchor\":\"x4\",\"domain\":[0.0,0.425]},\"autosize\":false,\"width\":600,\"height\":600,\"title\":{\"text\":\"Log Returns\"}},                        {\"responsive\": true}                    ).then(function(){\n",
              "                            \n",
              "var gd = document.getElementById('dbea4644-cb9f-469f-8961-30be3a659c12');\n",
              "var x = new MutationObserver(function (mutations, observer) {{\n",
              "        var display = window.getComputedStyle(gd).display;\n",
              "        if (!display || display === 'none') {{\n",
              "            console.log([gd, 'removed!']);\n",
              "            Plotly.purge(gd);\n",
              "            observer.disconnect();\n",
              "        }}\n",
              "}});\n",
              "\n",
              "// Listen for the removal of the full notebook cells\n",
              "var notebookContainer = gd.closest('#notebook-container');\n",
              "if (notebookContainer) {{\n",
              "    x.observe(notebookContainer, {childList: true});\n",
              "}}\n",
              "\n",
              "// Listen for the clearing of the current output cell\n",
              "var outputEl = gd.closest('.output');\n",
              "if (outputEl) {{\n",
              "    x.observe(outputEl, {childList: true});\n",
              "}}\n",
              "\n",
              "                        })                };                            </script>        </div>\n",
              "</body>\n",
              "</html>"
            ]
          },
          "metadata": {}
        }
      ]
    }
  ]
}